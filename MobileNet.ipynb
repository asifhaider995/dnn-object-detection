{
 "cells": [
  {
   "cell_type": "code",
   "execution_count": 6,
   "id": "private-tourist",
   "metadata": {},
   "outputs": [
    {
     "name": "stdout",
     "output_type": "stream",
     "text": [
      "done\n"
     ]
    }
   ],
   "source": [
    "# Imports\n",
    "import numpy as np\n",
    "import tensorflow as tf\n",
    "from tensorflow import keras\n",
    "from tensorflow.keras.models import Model, Sequential\n",
    "from tensorflow.keras.layers import Activation, Dense, Flatten, BatchNormalization, Conv2D, MaxPool2D\n",
    "from tensorflow.keras.optimizers import Adam\n",
    "from tensorflow.keras.metrics import categorical_crossentropy\n",
    "from tensorflow.keras.preprocessing import image\n",
    "from tensorflow.keras.preprocessing.image import ImageDataGenerator\n",
    "from tensorflow.keras.applications import imagenet_utils\n",
    "from sklearn.metrics import confusion_matrix\n",
    "import itertools\n",
    "import os\n",
    "import shutil\n",
    "import glob\n",
    "import matplotlib.pyplot as plt\n",
    "import warnings\n",
    "warnings.simplefilter(action='ignore', category=FutureWarning)\n",
    "\n",
    "# Data preprocessing\n",
    "# Define Paths\n",
    "import random\n",
    "\n",
    "CURR_PATH = os.getcwd()\n",
    "data_path = os.path.join(CURR_PATH, 'data', 'phase2', 'total')\n",
    "train_path = os.path.join(CURR_PATH, 'data', 'phase2', 'train')\n",
    "test_path = os.path.join(CURR_PATH, 'data', 'phase2', 'test')\n",
    "valid_path = os.path.join(CURR_PATH, 'data', 'phase2', 'validate')\n",
    "\n",
    "# Moving files to seperate dirs\n",
    "# Do this only once\n",
    "# print(len(glob.glob(os.path.join(data_path,'human-*'))))\n",
    "# Move files for Training\n",
    "def move_files():\n",
    "    for c in random.sample(glob.glob(os.path.join(data_path,'human-*')), 1000):\n",
    "    #     print(c)\n",
    "        shutil.move(c, os.path.join(train_path, 'human'))\n",
    "    for c in random.sample(glob.glob(os.path.join(data_path,'null-*')), 1000):\n",
    "        shutil.move(c, os.path.join(train_path, 'null'))\n",
    "    # Move files for validation\n",
    "    for c in random.sample(glob.glob(os.path.join(data_path,'human-*')), 350):\n",
    "        shutil.move(c, os.path.join(valid_path, 'human'))\n",
    "    for c in random.sample(glob.glob(os.path.join(data_path,'null-*')), 350):\n",
    "        shutil.move(c, os.path.join(valid_path, 'null'))\n",
    "    # Move files for test\n",
    "    for c in random.sample(glob.glob(os.path.join(data_path,'human-*')), 150):\n",
    "        shutil.move(c, os.path.join(test_path, 'human'))\n",
    "    for c in random.sample(glob.glob(os.path.join(data_path,'null-*')), 150):\n",
    "        shutil.move(c, os.path.join(test_path, 'null'))\n",
    "\n",
    "# move_files()\n",
    "print(\"done\")\n"
   ]
  },
  {
   "cell_type": "code",
   "execution_count": 3,
   "id": "recreational-award",
   "metadata": {},
   "outputs": [
    {
     "name": "stdout",
     "output_type": "stream",
     "text": [
      "Number of GPUs available 0\n"
     ]
    }
   ],
   "source": [
    "# Run cell for using GPU\n",
    "physical_devices = tf.config.experimental.list_physical_devices('GPU')\n",
    "print(\"Number of GPUs available\", len(physical_devices))\n",
    "#tf.config.experimental.set_memory_growth(physical_devices[0], True)"
   ]
  },
  {
   "cell_type": "code",
   "execution_count": 5,
   "id": "complete-motion",
   "metadata": {},
   "outputs": [
    {
     "name": "stdout",
     "output_type": "stream",
     "text": [
      "Downloading data from https://storage.googleapis.com/tensorflow/keras-applications/mobilenet/mobilenet_1_0_224_tf.h5\n",
      "17227776/17225924 [==============================] - 9s 1us/step\n"
     ]
    }
   ],
   "source": [
    "# Initilize MobileNet\n",
    "mobile = tf.keras.applications.mobilenet.MobileNet()"
   ]
  },
  {
   "cell_type": "code",
   "execution_count": 15,
   "id": "broken-graphics",
   "metadata": {},
   "outputs": [],
   "source": [
    "def prepare_img(file):\n",
    "    img_path = 'data/phase1/dataset/main/test/'\n",
    "    img = image.load_img(img_path + file, target_size=(224, 224))\n",
    "    img_arr = image.img_to_array(img)\n",
    "    img_array_expanded_dims = np.expand_dims(img_arr, axis=0)\n",
    "    return tf.keras.applications.mobilenet.preprocess_input(img_array_expanded_dims)\n"
   ]
  },
  {
   "cell_type": "code",
   "execution_count": 16,
   "id": "tutorial-dryer",
   "metadata": {},
   "outputs": [
    {
     "data": {
      "image/jpeg": "[encoded data removed]",
      "text/plain": [
       "<IPython.core.display.Image object>"
      ]
     },
     "execution_count": 16,
     "metadata": {
      "image/jpeg": {
       "height": 200,
       "width": 300
      }
     },
     "output_type": "execute_result"
    }
   ],
   "source": [
    "from IPython.display import Image\n",
    "Image(filename='data/phase1/dataset/main/test/1.jpg', width=300, height=200)"
   ]
  },
  {
   "cell_type": "code",
   "execution_count": 17,
   "id": "diagnostic-paris",
   "metadata": {},
   "outputs": [
    {
     "data": {
      "text/plain": [
       "[[('n04228054', 'ski', 0.25935033),\n",
       "  ('n04208210', 'shovel', 0.090006486),\n",
       "  ('n01795545', 'black_grouse', 0.042397134),\n",
       "  ('n02640242', 'sturgeon', 0.041778494),\n",
       "  ('n04008634', 'projectile', 0.032279365)]]"
      ]
     },
     "execution_count": 17,
     "metadata": {},
     "output_type": "execute_result"
    }
   ],
   "source": [
    "preprocessed_img = prepare_img('1.jpg')\n",
    "predictions = mobile.predict(preprocessed_img)\n",
    "results = imagenet_utils.decode_predictions(predictions)\n",
    "results"
   ]
  },
  {
   "cell_type": "code",
   "execution_count": null,
   "id": "studied-heather",
   "metadata": {},
   "outputs": [],
   "source": [
    "assert results[0][0][1] == 'Human'\n"
   ]
  }
 ],
 "metadata": {
  "kernelspec": {
   "display_name": "Python 3",
   "language": "python",
   "name": "python3"
  },
  "language_info": {
   "codemirror_mode": {
    "name": "ipython",
    "version": 3
   },
   "file_extension": ".py",
   "mimetype": "text/x-python",
   "name": "python",
   "nbconvert_exporter": "python",
   "pygments_lexer": "ipython3",
   "version": "3.8.5"
  }
 },
 "nbformat": 4,
 "nbformat_minor": 5
}
