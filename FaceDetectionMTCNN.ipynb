{
 "cells": [
  {
   "cell_type": "code",
   "execution_count": 2,
   "id": "aerial-directory",
   "metadata": {},
   "outputs": [],
   "source": [
    "from facenet_pytorch import MTCNN\n",
    "import torch\n",
    "import cv2\n",
    "import os\n",
    "\n",
    "\n",
    "# cap = cv2.VideoCapture(0)\n",
    "\n",
    "cwd = os.getcwd()\n",
    "data_path = os.path.join(cwd, 'data', 'dataset', 'train')\n",
    "\n",
    "# for file in os.listdir(data_path):\n",
    "file_path = os.path.join(data_path, os.listdir(data_path)[10])\n",
    "\n",
    "frame = cv2.imread(file_path)\n",
    "\n",
    "frame = cv2.resize(frame, (600, 400))\n",
    "\n",
    "#Here we are going to use the facenet detector\n",
    "boxes, conf = mtcnn.detect(frame)\n",
    "# detections = detect(frame)\n",
    "\n",
    "if conf[0] !=  None:\n",
    "    for (x, y, w, h) in boxes:\n",
    "        text = f\"{conf[0]*100:.2f}%\"\n",
    "        x, y, w, h = int(x), int(y), int(w), int(h)\n",
    "        cv2.putText(frame, text, (x, y-20), cv2.FONT_HERSHEY_SIMPLEX, 1,(255, 0, 250), 3)\n",
    "        cv2.rectangle(frame, (x, y), (w, h), (255, 255, 255), 1)\n",
    "\n",
    "cv2.imshow(\"Detections\", frame)\n",
    "print(boxes)\n",
    "cv2.waitKey(0)\n",
    "cv2.destroyAllWindows()\n",
    "\n",
    "\n",
    "# while True:\n",
    "#     ret, frame = cap.read()\n",
    "# #     frame = cv2.resize(frame, (600, 400))\n",
    "#     boxes = detector.detect_faces(frame)\n",
    "#     print(boxes)\n",
    "#     if boxes:\n",
    "#         box = boxes[0]['box']\n",
    "#         conf = boxes[0]['confidence']\n",
    "#         x, y, w, h = box[0], box[1], box[2], box[3]\n",
    "        \n",
    "#         if conf > 0.5:\n",
    "#            cv2.rectangle(frame, (x, y), (x+w, y+h), (255, 255, 255), 1)\n",
    "    \n",
    "#     cv2.imshow(\"Frame\", frame)\n",
    "#     if cv2.waitKey(25) & 0xFF == ord('q'):\n",
    "#        break\n",
    "\n",
    "\n",
    "# cv2.destroyAllWindows()\n",
    "# cv2.release()"
   ]
  }
 ],
 "metadata": {
  "kernelspec": {
   "display_name": "Python 3",
   "language": "python",
   "name": "python3"
  },
  "language_info": {
   "codemirror_mode": {
    "name": "ipython",
    "version": 3
   },
   "file_extension": ".py",
   "mimetype": "text/x-python",
   "name": "python",
   "nbconvert_exporter": "python",
   "pygments_lexer": "ipython3",
   "version": "3.8.5"
  }
 },
 "nbformat": 4,
 "nbformat_minor": 5
}
